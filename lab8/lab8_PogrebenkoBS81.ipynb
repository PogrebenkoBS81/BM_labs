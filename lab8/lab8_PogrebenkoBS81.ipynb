{
 "cells": [
  {
   "cell_type": "markdown",
   "metadata": {
    "colab_type": "text",
    "id": "weuwGEo2mJBC"
   },
   "source": [
    "# Дисперсійний аналіз"
   ]
  },
  {
   "cell_type": "markdown",
   "metadata": {
    "colab_type": "text",
    "id": "ZUzN4OAhmxkD"
   },
   "source": [
    "##Теоретичні відомості"
   ]
  },
  {
   "cell_type": "markdown",
   "metadata": {
    "colab_type": "text",
    "id": "GCJ4px_JmMeY"
   },
   "source": [
    "**Дисперсійний аналіз** - статистичний метод дослідження взаємозв'язку. Застосовується для аналізу впливу якісної змінної  на одну залежну (кількісну) змінну.\n",
    "В основі дисперсійного аналізу лежить припущення, що одні змінні можливо розглядати як причини (незалежні змінні), інші - як наслідки (залежні змінні). Незалежні змінні в дисперсійному аналізі називають факторами.\n",
    " У зарубежній літературі дисперсійний аналіз часто обозначається як ANOVA, що переводиться як аналіз варіативності (Analysis of Variance).\n",
    "\n",
    "Дисперсійний аналіз - параметричний метод.\n",
    "\n",
    "\n"
   ]
  },
  {
   "cell_type": "markdown",
   "metadata": {
    "colab_type": "text",
    "id": "t1MGzbZKm0QY"
   },
   "source": [
    "### Область застосування"
   ]
  },
  {
   "cell_type": "markdown",
   "metadata": {
    "colab_type": "text",
    "id": "u6P7khWWm16u"
   },
   "source": [
    "ANOVA використовують для визначення статистичних відмінностей у *середніх* значення двох або більше групп."
   ]
  },
  {
   "cell_type": "markdown",
   "metadata": {
    "colab_type": "text",
    "id": "LOW2EJNpm5oi"
   },
   "source": [
    "### Вимоги до даних"
   ]
  },
  {
   "cell_type": "markdown",
   "metadata": {
    "colab_type": "text",
    "id": "ldtCTT-2m6tf"
   },
   "source": [
    "Ваші дані повинні відповідати наступним вимогам:\n",
    "1. Залежна змінна має бути безперервною (кількісною).\n",
    "2. Незалежна змінна має бути категоріальною (містити дві або більше груп).\n",
    "3. Групи є незалежними.\n",
    "4. Залежна змінна має нормальний розподіл.\n",
    "5. Однорідність дисперсій. Групи мають приблизно однакові дисперсії.\n",
    "6. Залежна змінна не містить викидів.\n",
    "7. Кожна група має містити принаймні 6 спостережень.\n",
    "8. Сбалансований дизайн. В ідеалі, групи мають бути однаковими за розміром.\n"
   ]
  },
  {
   "cell_type": "markdown",
   "metadata": {
    "colab_type": "text",
    "id": "zcDHzLIZm6_R"
   },
   "source": [
    "### Гіпотеза"
   ]
  },
  {
   "cell_type": "markdown",
   "metadata": {
    "colab_type": "text",
    "id": "pYFVPpI6m899"
   },
   "source": [
    "Гіпотеза, яка перевіряєть даним тестом може бути виражена наступним чином:\n",
    "\n",
    "$H_0 : μ_1  = μ_2 = ... =  μ_n $ («середні  незалежних груп рівні»)\n",
    "\n",
    "$H_1 : μ_1  ≠ μ_2 ≠ ... ≠ μ_n$ («середні  незалежних груп відмінні»)"
   ]
  },
  {
   "cell_type": "markdown",
   "metadata": {
    "colab_type": "text",
    "id": "zo71OMQ6m9HF"
   },
   "source": [
    "### Алгоритм розрахунку"
   ]
  },
  {
   "cell_type": "markdown",
   "metadata": {
    "colab_type": "text",
    "id": "XWDrm4xAnDiE"
   },
   "source": [
    "Припустимо, що є три незалежні групи кожна з яких пройшла тест на запам'ятовування 10 слів. Першій групі слова демонструвалися з низькою швидкістю - 1 слово в 5 секунд, другій  з середньою швидкістю - 1 слово в 2 секунди, і третій групі з великою швидкістю - 1 слово в секунду.\n",
    "\n",
    "Прикладом задачі, яка вирішується методом дисперсійного аналізу є аналіз впливу швидкості демонстрації слів на результат тесту. \n",
    "\n",
    "n  | Група 1 (низька швидкість) | Група 2 (середня швидкість) | Група 3 (висока швидкість) |\n",
    "------------- | ------------- |--------- | ------------- | \n",
    "1  | 8   | 7   | 4   | \n",
    "2  | 7   | 8   |5   | \n",
    "3  | 9   | 5   |3   |\n",
    "4  | 5   | 4   |6   | \n",
    "5  | 6  | 6   |2  |  \n",
    "6  | 8   | 7  |4  | \n",
    "Сума  | 43   | 37  |24   |\n",
    "Середні  | 7,17   | 3,17   |4  | \n",
    "\n",
    "Загальна сума - 104\n",
    "\n",
    "Основні величини для однофакторного дисперсійного аналізу:\n",
    "1. $T_c$, cуми індивідуальних значень по кожнії з груп: 43, 37, 24.\n",
    "2. $\\sum{T^2_c}$,  cума квадратів сумарних значень по кожній з груп: $43^2 +  37^2 + 24^2 = 3794$\n",
    "3. $c$, кількість умов (градацій фактора/ груп): 3\n",
    "4. $n$, кількість досліджень в групах: 6, 6, 6.\n",
    "5. $N$, загальна кількість досліджень: 18.\n",
    "6. $(\\sum{x_i})^2$, квадрат загальної суми індивідуальних значень: 10 816\n",
    "7. $\\frac{(\\sum{x_i})^2}{N}$,Константа, яку потрібно відняти від кожної суми квадратів:  600,9\n",
    "8. $x_i$, індивідуальне значення\n",
    "9. $\\sum({x_i}^2)$, сума квадратів індивідуальних значень.\n",
    "\n",
    "\n",
    "Тоді, послідовність операцій в однофакторному дисперсійному аналізі виглядає наступним чином:\n",
    "1. Розрахувати внутрішньогрупову дисперсію ($SS_{факт}$).\n",
    "\n",
    "$$ SS_{факт}  = \\frac{\\sum{T^2_c}}{n} - \\frac{(\\sum{x_i})^2}{N} = \\frac{3794}{6} - \\frac{10 816}{18} = 31,44$$\n",
    "\n",
    "2. Розрахувати загальногрупову дисперсію ($SS_{заг}$).\n",
    "$$ SS_{заг} = \\sum({x_i}^2) - \\frac{(\\sum{x_i})^2}{N} =  8^2+7^2+9^2+5^2+6^2+8^2+7^2+7^2+8^2+5^2+ 4^2+ 6^2+ 7^2+ 4^2+ 5^2+ 3^2+ 6^2+ 2^2+ 4^2 - \\frac{104^2}{18} = 63,11$$\n",
    "\n",
    "3. Розрахувати випадкову (залишкову) величину $SS_{вип}$\n",
    "$$ SS_{вип} = SS_{заг} - SS_{факт} = 63,11 -31,44 = 31,67 $$\n",
    "\n",
    "4. Визначити кількість ступенів свободи:\n",
    "$$d_{факт} = c - 1 = 3 - 1 = 2$$\n",
    "$$d_{заг} = N - 1 = 18 - 1 = 17$$\n",
    "$$d_{вип} = d_{заг} - d_{факт} = 17 - 2 = 15$$\n",
    "\n",
    "5. Розділити кожну SS на відповідне число ступенів свободи:\n",
    "$$MS_{факт} = \\frac{SS_{факт}}{d_{факт}} = \\frac{31,44}{2} = 15,72$$\n",
    "$$MS_{вип} = \\frac{SS_{вип}}{d_{вип}} = \\frac{31,67}{15} = 2,11$$\n",
    "\n",
    "6. Розрахувати значення $F_{емпір}$\n",
    "$$ F_{емпір} = \\frac{MS_{факт}}{MS_{вип}} = \\frac{15,72}{2,11} = 7,45 $$\n",
    "\n",
    "7. Визначити критичне значення F по таблиці критичних значень: \n",
    "\n",
    "$$F_{крит(2,15)} = 3,7 $$\n",
    "\n",
    "8. Співставити емпіричне та критичне значення F.\n",
    "\n",
    "При $F_{емпір} \\geq F_{крит(2,15)}$ нульова гіпотеза про рівність середніх відхиляється.\n",
    "\n",
    "$$7,45 > 3,7$$ - рівність середніх не підтверджена.\n"
   ]
  },
  {
   "cell_type": "markdown",
   "metadata": {
    "colab_type": "text",
    "id": "9qiU_OebnDpv"
   },
   "source": [
    "### Завдання"
   ]
  },
  {
   "cell_type": "markdown",
   "metadata": {
    "colab_type": "text",
    "id": "NlTSSN6x6yTz"
   },
   "source": [
    "1. Розрахувати та вивести у вигляді таблиці статистичні характиристики даних (середні та стандартні відхилення для кожної з груп).\n",
    "2. Побудувати графік розкиду в групах.\n",
    "3. Побудувати функцію, що реалізовує однофакторний дисперсійний аналіз.\n",
    "4. Вивести результати розрахунку кожного з етапів вказаних вище у вигляді таблиці.\n",
    "5. Перевірити результат роботи функції на реальних або сгенерованих даних. Зробити висновок."
   ]
  },
  {
   "cell_type": "code",
   "execution_count": 1,
   "metadata": {},
   "outputs": [],
   "source": [
    "import pandas as pd\n",
    "import numpy as np\n",
    "import seaborn as sns"
   ]
  },
  {
   "cell_type": "code",
   "execution_count": 2,
   "metadata": {},
   "outputs": [
    {
     "data": {
      "text/html": [
       "<div>\n",
       "<style scoped>\n",
       "    .dataframe tbody tr th:only-of-type {\n",
       "        vertical-align: middle;\n",
       "    }\n",
       "\n",
       "    .dataframe tbody tr th {\n",
       "        vertical-align: top;\n",
       "    }\n",
       "\n",
       "    .dataframe thead th {\n",
       "        text-align: right;\n",
       "    }\n",
       "</style>\n",
       "<table border=\"1\" class=\"dataframe\">\n",
       "  <thead>\n",
       "    <tr style=\"text-align: right;\">\n",
       "      <th></th>\n",
       "      <th>age</th>\n",
       "      <th>sex</th>\n",
       "      <th>bmi</th>\n",
       "      <th>children</th>\n",
       "      <th>smoker</th>\n",
       "      <th>region</th>\n",
       "      <th>charges</th>\n",
       "    </tr>\n",
       "  </thead>\n",
       "  <tbody>\n",
       "    <tr>\n",
       "      <th>0</th>\n",
       "      <td>19</td>\n",
       "      <td>female</td>\n",
       "      <td>27.900</td>\n",
       "      <td>0</td>\n",
       "      <td>yes</td>\n",
       "      <td>southwest</td>\n",
       "      <td>16884.92400</td>\n",
       "    </tr>\n",
       "    <tr>\n",
       "      <th>1</th>\n",
       "      <td>18</td>\n",
       "      <td>male</td>\n",
       "      <td>33.770</td>\n",
       "      <td>1</td>\n",
       "      <td>no</td>\n",
       "      <td>southeast</td>\n",
       "      <td>1725.55230</td>\n",
       "    </tr>\n",
       "    <tr>\n",
       "      <th>2</th>\n",
       "      <td>28</td>\n",
       "      <td>male</td>\n",
       "      <td>33.000</td>\n",
       "      <td>3</td>\n",
       "      <td>no</td>\n",
       "      <td>southeast</td>\n",
       "      <td>4449.46200</td>\n",
       "    </tr>\n",
       "    <tr>\n",
       "      <th>3</th>\n",
       "      <td>33</td>\n",
       "      <td>male</td>\n",
       "      <td>22.705</td>\n",
       "      <td>0</td>\n",
       "      <td>no</td>\n",
       "      <td>northwest</td>\n",
       "      <td>21984.47061</td>\n",
       "    </tr>\n",
       "    <tr>\n",
       "      <th>4</th>\n",
       "      <td>32</td>\n",
       "      <td>male</td>\n",
       "      <td>28.880</td>\n",
       "      <td>0</td>\n",
       "      <td>no</td>\n",
       "      <td>northwest</td>\n",
       "      <td>3866.85520</td>\n",
       "    </tr>\n",
       "    <tr>\n",
       "      <th>...</th>\n",
       "      <td>...</td>\n",
       "      <td>...</td>\n",
       "      <td>...</td>\n",
       "      <td>...</td>\n",
       "      <td>...</td>\n",
       "      <td>...</td>\n",
       "      <td>...</td>\n",
       "    </tr>\n",
       "    <tr>\n",
       "      <th>1333</th>\n",
       "      <td>50</td>\n",
       "      <td>male</td>\n",
       "      <td>30.970</td>\n",
       "      <td>3</td>\n",
       "      <td>no</td>\n",
       "      <td>northwest</td>\n",
       "      <td>10600.54830</td>\n",
       "    </tr>\n",
       "    <tr>\n",
       "      <th>1334</th>\n",
       "      <td>18</td>\n",
       "      <td>female</td>\n",
       "      <td>31.920</td>\n",
       "      <td>0</td>\n",
       "      <td>no</td>\n",
       "      <td>northeast</td>\n",
       "      <td>2205.98080</td>\n",
       "    </tr>\n",
       "    <tr>\n",
       "      <th>1335</th>\n",
       "      <td>18</td>\n",
       "      <td>female</td>\n",
       "      <td>36.850</td>\n",
       "      <td>0</td>\n",
       "      <td>no</td>\n",
       "      <td>southeast</td>\n",
       "      <td>1629.83350</td>\n",
       "    </tr>\n",
       "    <tr>\n",
       "      <th>1336</th>\n",
       "      <td>21</td>\n",
       "      <td>female</td>\n",
       "      <td>25.800</td>\n",
       "      <td>0</td>\n",
       "      <td>no</td>\n",
       "      <td>southwest</td>\n",
       "      <td>2007.94500</td>\n",
       "    </tr>\n",
       "    <tr>\n",
       "      <th>1337</th>\n",
       "      <td>61</td>\n",
       "      <td>female</td>\n",
       "      <td>29.070</td>\n",
       "      <td>0</td>\n",
       "      <td>yes</td>\n",
       "      <td>northwest</td>\n",
       "      <td>29141.36030</td>\n",
       "    </tr>\n",
       "  </tbody>\n",
       "</table>\n",
       "<p>1338 rows × 7 columns</p>\n",
       "</div>"
      ],
      "text/plain": [
       "      age     sex     bmi  children smoker     region      charges\n",
       "0      19  female  27.900         0    yes  southwest  16884.92400\n",
       "1      18    male  33.770         1     no  southeast   1725.55230\n",
       "2      28    male  33.000         3     no  southeast   4449.46200\n",
       "3      33    male  22.705         0     no  northwest  21984.47061\n",
       "4      32    male  28.880         0     no  northwest   3866.85520\n",
       "...   ...     ...     ...       ...    ...        ...          ...\n",
       "1333   50    male  30.970         3     no  northwest  10600.54830\n",
       "1334   18  female  31.920         0     no  northeast   2205.98080\n",
       "1335   18  female  36.850         0     no  southeast   1629.83350\n",
       "1336   21  female  25.800         0     no  southwest   2007.94500\n",
       "1337   61  female  29.070         0    yes  northwest  29141.36030\n",
       "\n",
       "[1338 rows x 7 columns]"
      ]
     },
     "execution_count": 2,
     "metadata": {},
     "output_type": "execute_result"
    }
   ],
   "source": [
    "dataset = pd.read_csv('insurance.csv')\n",
    "dataset"
   ]
  },
  {
   "cell_type": "code",
   "execution_count": 7,
   "metadata": {},
   "outputs": [
    {
     "data": {
      "text/html": [
       "<div>\n",
       "<style scoped>\n",
       "    .dataframe tbody tr th:only-of-type {\n",
       "        vertical-align: middle;\n",
       "    }\n",
       "\n",
       "    .dataframe tbody tr th {\n",
       "        vertical-align: top;\n",
       "    }\n",
       "\n",
       "    .dataframe thead th {\n",
       "        text-align: right;\n",
       "    }\n",
       "</style>\n",
       "<table border=\"1\" class=\"dataframe\">\n",
       "  <thead>\n",
       "    <tr style=\"text-align: right;\">\n",
       "      <th></th>\n",
       "      <th>female</th>\n",
       "      <th>male</th>\n",
       "    </tr>\n",
       "  </thead>\n",
       "  <tbody>\n",
       "    <tr>\n",
       "      <th>0</th>\n",
       "      <td>27.90</td>\n",
       "      <td>33.770</td>\n",
       "    </tr>\n",
       "    <tr>\n",
       "      <th>1</th>\n",
       "      <td>25.74</td>\n",
       "      <td>33.000</td>\n",
       "    </tr>\n",
       "    <tr>\n",
       "      <th>2</th>\n",
       "      <td>33.44</td>\n",
       "      <td>22.705</td>\n",
       "    </tr>\n",
       "    <tr>\n",
       "      <th>3</th>\n",
       "      <td>27.74</td>\n",
       "      <td>28.880</td>\n",
       "    </tr>\n",
       "    <tr>\n",
       "      <th>4</th>\n",
       "      <td>25.84</td>\n",
       "      <td>29.830</td>\n",
       "    </tr>\n",
       "    <tr>\n",
       "      <th>...</th>\n",
       "      <td>...</td>\n",
       "      <td>...</td>\n",
       "    </tr>\n",
       "    <tr>\n",
       "      <th>657</th>\n",
       "      <td>44.70</td>\n",
       "      <td>30.360</td>\n",
       "    </tr>\n",
       "    <tr>\n",
       "      <th>658</th>\n",
       "      <td>31.92</td>\n",
       "      <td>30.875</td>\n",
       "    </tr>\n",
       "    <tr>\n",
       "      <th>659</th>\n",
       "      <td>36.85</td>\n",
       "      <td>27.800</td>\n",
       "    </tr>\n",
       "    <tr>\n",
       "      <th>660</th>\n",
       "      <td>25.80</td>\n",
       "      <td>24.605</td>\n",
       "    </tr>\n",
       "    <tr>\n",
       "      <th>661</th>\n",
       "      <td>29.07</td>\n",
       "      <td>28.120</td>\n",
       "    </tr>\n",
       "  </tbody>\n",
       "</table>\n",
       "<p>662 rows × 2 columns</p>\n",
       "</div>"
      ],
      "text/plain": [
       "     female    male\n",
       "0     27.90  33.770\n",
       "1     25.74  33.000\n",
       "2     33.44  22.705\n",
       "3     27.74  28.880\n",
       "4     25.84  29.830\n",
       "..      ...     ...\n",
       "657   44.70  30.360\n",
       "658   31.92  30.875\n",
       "659   36.85  27.800\n",
       "660   25.80  24.605\n",
       "661   29.07  28.120\n",
       "\n",
       "[662 rows x 2 columns]"
      ]
     },
     "execution_count": 7,
     "metadata": {},
     "output_type": "execute_result"
    }
   ],
   "source": [
    "female = []\n",
    "male = []\n",
    "\n",
    "for _, row in dataset.iterrows():\n",
    "    if row[\"sex\"] == \"female\":\n",
    "        female.append(row[\"bmi\"])\n",
    "    else:\n",
    "        male.append(row[\"bmi\"])\n",
    "        \n",
    "size = min(len(female), len(male))\n",
    "data_chunk = pd.DataFrame({\"female\" : female[:size], \n",
    "                           \"male\" : male[:size]})\n",
    "data_chunk"
   ]
  },
  {
   "cell_type": "markdown",
   "metadata": {},
   "source": [
    "1. Розрахувати та вивести у вигляді таблиці статистичні характиристики даних (середні та стандартні відхилення для кожної з груп)."
   ]
  },
  {
   "cell_type": "code",
   "execution_count": 9,
   "metadata": {},
   "outputs": [
    {
     "data": {
      "text/html": [
       "<div>\n",
       "<style scoped>\n",
       "    .dataframe tbody tr th:only-of-type {\n",
       "        vertical-align: middle;\n",
       "    }\n",
       "\n",
       "    .dataframe tbody tr th {\n",
       "        vertical-align: top;\n",
       "    }\n",
       "\n",
       "    .dataframe thead th {\n",
       "        text-align: right;\n",
       "    }\n",
       "</style>\n",
       "<table border=\"1\" class=\"dataframe\">\n",
       "  <thead>\n",
       "    <tr style=\"text-align: right;\">\n",
       "      <th></th>\n",
       "      <th>female</th>\n",
       "      <th>male</th>\n",
       "    </tr>\n",
       "  </thead>\n",
       "  <tbody>\n",
       "    <tr>\n",
       "      <th>mean</th>\n",
       "      <td>30.377749</td>\n",
       "      <td>30.875121</td>\n",
       "    </tr>\n",
       "    <tr>\n",
       "      <th>std</th>\n",
       "      <td>6.041455</td>\n",
       "      <td>6.087756</td>\n",
       "    </tr>\n",
       "  </tbody>\n",
       "</table>\n",
       "</div>"
      ],
      "text/plain": [
       "         female       male\n",
       "mean  30.377749  30.875121\n",
       "std    6.041455   6.087756"
      ]
     },
     "execution_count": 9,
     "metadata": {},
     "output_type": "execute_result"
    }
   ],
   "source": [
    "data_set = pd.DataFrame(index=[\"mean\",\"std\"])\n",
    "data_set[\"female\"] = [np.mean(data_chunk.iloc[:,0]), np.std(data_chunk.iloc[:,0])]\n",
    "data_set[\"male\"] = [np.mean(data_chunk.iloc[:,1]), np.std(data_chunk.iloc[:,1])]\n",
    "data_set"
   ]
  },
  {
   "cell_type": "markdown",
   "metadata": {},
   "source": [
    "2.Побудувати графік розкиду в групах."
   ]
  },
  {
   "cell_type": "code",
   "execution_count": 10,
   "metadata": {},
   "outputs": [
    {
     "data": {
      "image/png": "[encoded data removed]",
      "text/plain": [
       "<Figure size 432x288 with 1 Axes>"
      ]
     },
     "metadata": {
      "needs_background": "light"
     },
     "output_type": "display_data"
    }
   ],
   "source": [
    "ax = sns.boxplot(data=data_set, orient=\"h\", palette=\"Set2\")"
   ]
  },
  {
   "cell_type": "markdown",
   "metadata": {},
   "source": [
    "3.Побудувати функцію, що реалізовує однофакторний дисперсійний аналіз."
   ]
  },
  {
   "cell_type": "code",
   "execution_count": null,
   "metadata": {},
   "outputs": [],
   "source": []
  }
 ],
 "metadata": {
  "colab": {
   "authorship_tag": "ABX9TyPz43bweI3Rw31Fk91MPGuX",
   "collapsed_sections": [],
   "name": "КП8.ipynb",
   "provenance": []
  },
  "kernelspec": {
   "display_name": "Python 3",
   "language": "python",
   "name": "python3"
  },
  "language_info": {
   "codemirror_mode": {
    "name": "ipython",
    "version": 3
   },
   "file_extension": ".py",
   "mimetype": "text/x-python",
   "name": "python",
   "nbconvert_exporter": "python",
   "pygments_lexer": "ipython3",
   "version": "3.7.0"
  }
 },
 "nbformat": 4,
 "nbformat_minor": 1
}
